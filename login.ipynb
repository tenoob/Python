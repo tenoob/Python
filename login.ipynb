{
 "cells": [
  {
   "cell_type": "code",
   "execution_count": 10,
   "metadata": {},
   "outputs": [
    {
     "name": "stdout",
     "output_type": "stream",
     "text": [
      "1 -> Signup \n",
      "2 -> Login\n",
      "2\n",
      "enter username:anand\n",
      "enter password:1234\n",
      "invalid uid or password\n"
     ]
    }
   ],
   "source": [
    "import sqlite3\n",
    "connec = sqlite3.connect('abc.db')\n",
    "\n",
    "def account_create(a,b,c,d,e,f):\n",
    "    try:\n",
    "        cur = connec.cursor()\n",
    "        cur.execute('''CREATE TABLE IF NOT EXISTS info(uid text  , first_name text , last_name text , age INTEGER , email text , password text ,UNIQUE(uid))''')\n",
    "        cur.execute('''INSERT INTO info VALUES(?,?,?,?,?,?)''',(a,b,c,d,e,f))\n",
    "        connec.commit()\n",
    "        connec.close()\n",
    "        print(\"account created\")\n",
    "    except Exception as e:\n",
    "        print(e,\"username already taken \\ntry again with new username\")\n",
    "\n",
    "def login(a,b):\n",
    "    flag=False\n",
    "    cur = connec.cursor()\n",
    "    cur.execute('''select uid,password from info;''')\n",
    "    rows=cur.fetchall()\n",
    "    for row in rows:\n",
    "        if row[0]==a and row[1]==b:\n",
    "            print('welcome')\n",
    "            flag=True\n",
    "            break\n",
    "    if flag==False:\n",
    "        print(\"invalid uid or password\")\n",
    "    connec.commit()\n",
    "    connec.close()\n",
    "        \n",
    "                 \n",
    "x=int(input(\"1 -> Signup \\n2 -> Login\\n\"))\n",
    "if x==1:\n",
    "    uid=input(\"Enter a user name:\")\n",
    "    first_name=input(\"Enter your First Name:\")\n",
    "    last_name=input(\"Enter your Last Name:\")\n",
    "    age=int(input(\"Enter your age:\"))\n",
    "    email=input(\"Enter your email:\")\n",
    "    while True:\n",
    "        password=input(\"Enter password:\")\n",
    "        con_password=input(\"conform password:\")\n",
    "        if password==con_password:\n",
    "            account_create(uid,first_name,last_name,age,email,password)\n",
    "            break           \n",
    "        else:\n",
    "            print('password mismatch')\n",
    "            print('please try again\\n')\n",
    "elif x==2:\n",
    "    id=input(\"enter username:\")\n",
    "    password=input(\"enter password:\")\n",
    "    login(id,password)\n",
    "else:\n",
    "    print(\"Invalid option\")"
   ]
  },
  {
   "cell_type": "code",
   "execution_count": null,
   "metadata": {},
   "outputs": [],
   "source": []
  },
  {
   "cell_type": "code",
   "execution_count": 7,
   "metadata": {},
   "outputs": [
    {
     "name": "stdout",
     "output_type": "stream",
     "text": [
      "('anand', 'anand', 'kumar', 20, 'jjads', '123')\n",
      "('raj', 'raj', 'singh', 21, 'gfgh', '1234abcd')\n",
      "('p1', 'push', 's', 25, 'p@gmail.com', '1234')\n",
      "('qwe', 'jkfdj', 'dsf', 23, 'kand', '123')\n"
     ]
    }
   ],
   "source": [
    "connec = sqlite3.connect('abc.db')\n",
    "cur = connec.cursor()\n",
    "cur.execute('''select * from info;''')\n",
    "rows=cur.fetchall()\n",
    "for row in rows:\n",
    "    print(row)\n",
    "connec.commit()\n",
    "connec.close()"
   ]
  },
  {
   "cell_type": "code",
   "execution_count": 13,
   "metadata": {},
   "outputs": [],
   "source": [
    "a='ansdand'\n",
    "b='123'\n",
    "connec = sqlite3.connect('abc.db')\n",
    "cur = connec.cursor()\n",
    "cur.execute('''select uid,password from info;''')\n",
    "rows=cur.fetchall()\n",
    "for row in rows:\n",
    "    if row[0]==a and row[1]==b:\n",
    "        print('welcome')\n",
    "connec.commit()\n",
    "connec.close()"
   ]
  },
  {
   "cell_type": "code",
   "execution_count": null,
   "metadata": {},
   "outputs": [],
   "source": []
  }
 ],
 "metadata": {
  "kernelspec": {
   "display_name": "Python 3",
   "language": "python",
   "name": "python3"
  },
  "language_info": {
   "codemirror_mode": {
    "name": "ipython",
    "version": 3
   },
   "file_extension": ".py",
   "mimetype": "text/x-python",
   "name": "python",
   "nbconvert_exporter": "python",
   "pygments_lexer": "ipython3",
   "version": "3.6.5"
  }
 },
 "nbformat": 4,
 "nbformat_minor": 2
}
